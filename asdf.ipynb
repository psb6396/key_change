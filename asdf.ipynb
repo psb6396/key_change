{
 "cells": [
  {
   "cell_type": "code",
   "execution_count": 15,
   "metadata": {},
   "outputs": [
    {
     "name": "stdout",
     "output_type": "stream",
     "text": [
      ".\n",
      ".\n",
      ".\n",
      ".\n",
      "'Ctrl' 버튼이 3.004958152770996 초 동안 눌려짐.\n",
      ".\n",
      ".\n",
      ".\n",
      ".\n",
      ".\n",
      ".\n",
      ".\n",
      ".\n",
      ".\n",
      ".\n",
      ".\n",
      ".\n",
      ".\n",
      ".\n",
      ".\n",
      ".\n",
      ".\n",
      ".\n",
      ".\n",
      ".\n",
      ".\n",
      ".\n"
     ]
    },
    {
     "ename": "KeyboardInterrupt",
     "evalue": "",
     "output_type": "error",
     "traceback": [
      "\u001b[1;31m---------------------------------------------------------------------------\u001b[0m",
      "\u001b[1;31mKeyboardInterrupt\u001b[0m                         Traceback (most recent call last)",
      "Cell \u001b[1;32mIn[15], line 37\u001b[0m\n\u001b[0;32m     35\u001b[0m     start_time \u001b[38;5;241m=\u001b[39m \u001b[38;5;28;01mNone\u001b[39;00m  \u001b[38;5;66;03m# Reset if Ctrl is released\u001b[39;00m\n\u001b[0;32m     36\u001b[0m     function_have_been_executed \u001b[38;5;241m=\u001b[39m \u001b[38;5;28;01mFalse\u001b[39;00m\n\u001b[1;32m---> 37\u001b[0m time\u001b[38;5;241m.\u001b[39msleep(\u001b[38;5;241m0.5\u001b[39m)  \u001b[38;5;66;03m# Check every 500ms\u001b[39;00m\n",
      "\u001b[1;31mKeyboardInterrupt\u001b[0m: "
     ]
    }
   ],
   "source": [
    "import keyboard\n",
    "import time\n",
    "import mouse\n",
    "\n",
    "start_time = None\n",
    "duration = 3\n",
    "function_have_been_executed = False\n",
    "\n",
    "def press_mouse_button():\n",
    "    mouse.press(button='left', suppress=True)  # Simulate pressing the left mouse button\n",
    "    print(\"Mouse button pressed\")\n",
    "\n",
    "def release_mouse_button():\n",
    "    mouse.release(button='left', suppress=True)  # Simulate releasing the left mouse button\n",
    "    print(\"Mouse button released\")\n",
    "    \n",
    "def ctrl_c():\n",
    "    keyboard.send('ctrl+c')\n",
    "\n",
    "def change_key_option():\n",
    "    keyboard.on_press_key('s', lambda _: press_mouse_button())   # Press 's' to press mouse button\n",
    "    keyboard.on_release_key('s', lambda _: release_mouse_button())  # Release 's' to release mouse button\n",
    "    keyboard.add_hotkey('d', ctrl_c)\n",
    "\n",
    "while True:\n",
    "    if keyboard.is_pressed('ctrl') and function_have_been_executed == False:\n",
    "        if start_time is None:\n",
    "            start_time = time.time()  # Start timing when Ctrl is first pressed\n",
    "        elif time.time() - start_time >= duration:\n",
    "            print(f\"'Ctrl' 버튼이 {time.time() - start_time} 초 동안 눌려짐.\")\n",
    "            change_key_option()\n",
    "            function_have_been_executed = True\n",
    "    elif(keyboard.is_pressed('ctrl') == False):\n",
    "        print('.')\n",
    "        start_time = None  # Reset if Ctrl is released\n",
    "        function_have_been_executed = False\n",
    "    time.sleep(0.5)  # Check every 500ms\n"
   ]
  },
  {
   "cell_type": "code",
   "execution_count": 14,
   "metadata": {},
   "outputs": [],
   "source": [
    "keyboard.unhook_all()"
   ]
  }
 ],
 "metadata": {
  "kernelspec": {
   "display_name": "Python 3",
   "language": "python",
   "name": "python3"
  },
  "language_info": {
   "codemirror_mode": {
    "name": "ipython",
    "version": 3
   },
   "file_extension": ".py",
   "mimetype": "text/x-python",
   "name": "python",
   "nbconvert_exporter": "python",
   "pygments_lexer": "ipython3",
   "version": "3.11.4"
  }
 },
 "nbformat": 4,
 "nbformat_minor": 2
}
