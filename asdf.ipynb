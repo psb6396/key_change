{
 "cells": [
  {
   "cell_type": "code",
   "execution_count": null,
   "metadata": {},
   "outputs": [],
   "source": [
    "import keyboard\n",
    "import time\n",
    "import mouse\n",
    "\n",
    "start_time = None\n",
    "duration = 3\n",
    "function_have_been_executed = False\n",
    "\n",
    "def change_key_option():\n",
    "    pass\n",
    "\n",
    "while True:\n",
    "    if keyboard.is_pressed('ctrl') and function_have_been_executed == False:\n",
    "        if start_time is None:\n",
    "            start_time = time.time()  # Start timing when Ctrl is first pressed\n",
    "        elif time.time() - start_time >= duration:\n",
    "            print(f\"'Ctrl' 버튼이 {time.time() - start_time} 초 동안 눌려짐.\")\n",
    "            keyboard.add_hotkey('s', mouse.click())\n",
    "            function_have_been_executed = True\n",
    "    elif(keyboard.is_pressed('ctrl') == False):\n",
    "        print('.')\n",
    "        start_time = None  # Reset if Ctrl is released\n",
    "        function_have_been_executed = False\n",
    "    time.sleep(0.5)  # Check every 500ms\n"
   ]
  },
  {
   "cell_type": "code",
   "execution_count": 12,
   "metadata": {},
   "outputs": [
    {
     "data": {
      "text/plain": [
       "<function keyboard.add_hotkey.<locals>.remove_()>"
      ]
     },
     "execution_count": 12,
     "metadata": {},
     "output_type": "execute_result"
    }
   ],
   "source": [
    "keyboard.add_hotkey('s', 'l')"
   ]
  }
 ],
 "metadata": {
  "kernelspec": {
   "display_name": "Python 3",
   "language": "python",
   "name": "python3"
  },
  "language_info": {
   "codemirror_mode": {
    "name": "ipython",
    "version": 3
   },
   "file_extension": ".py",
   "mimetype": "text/x-python",
   "name": "python",
   "nbconvert_exporter": "python",
   "pygments_lexer": "ipython3",
   "version": "3.11.4"
  }
 },
 "nbformat": 4,
 "nbformat_minor": 2
}
